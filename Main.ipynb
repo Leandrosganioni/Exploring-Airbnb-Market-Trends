{
 "cells": [
  {
   "cell_type": "markdown",
   "metadata": {},
   "source": [
    "## Instalação das Dependências\n",
    "\n",
    "O projeto utiliza o pacote `pandas` para manipulação de dados. Para instalar as dependências, utilizei o ambiente `conda` executando o seguinte comando:\n",
    "\n",
    "```sh\n",
    "conda install pandas"
   ]
  },
  {
   "cell_type": "code",
   "execution_count": 2,
   "metadata": {},
   "outputs": [],
   "source": [
    "import pandas as pd"
   ]
  },
  {
   "cell_type": "code",
   "execution_count": 3,
   "metadata": {},
   "outputs": [],
   "source": [
    "#Leitura dos arquivos\n",
    "airbnb_price = pd.read_csv(\"airbnb_price.csv\")\n",
    "airbnb_last_review = pd.read_csv(\"airbnb_last_review.tsv\", sep=\"\\t\")\n",
    "airbnb_room_type = pd.read_excel(\"airbnb_room_type.xlsx\")"
   ]
  },
  {
   "cell_type": "code",
   "execution_count": null,
   "metadata": {},
   "outputs": [
    {
     "data": {
      "text/html": [
       "<div>\n",
       "<style scoped>\n",
       "    .dataframe tbody tr th:only-of-type {\n",
       "        vertical-align: middle;\n",
       "    }\n",
       "\n",
       "    .dataframe tbody tr th {\n",
       "        vertical-align: top;\n",
       "    }\n",
       "\n",
       "    .dataframe thead th {\n",
       "        text-align: right;\n",
       "    }\n",
       "</style>\n",
       "<table border=\"1\" class=\"dataframe\">\n",
       "  <thead>\n",
       "    <tr style=\"text-align: right;\">\n",
       "      <th></th>\n",
       "      <th>listing_id</th>\n",
       "      <th>price</th>\n",
       "      <th>nbhood_full</th>\n",
       "    </tr>\n",
       "  </thead>\n",
       "  <tbody>\n",
       "    <tr>\n",
       "      <th>0</th>\n",
       "      <td>2595</td>\n",
       "      <td>225 dollars</td>\n",
       "      <td>Manhattan, Midtown</td>\n",
       "    </tr>\n",
       "    <tr>\n",
       "      <th>1</th>\n",
       "      <td>3831</td>\n",
       "      <td>89 dollars</td>\n",
       "      <td>Brooklyn, Clinton Hill</td>\n",
       "    </tr>\n",
       "    <tr>\n",
       "      <th>2</th>\n",
       "      <td>5099</td>\n",
       "      <td>200 dollars</td>\n",
       "      <td>Manhattan, Murray Hill</td>\n",
       "    </tr>\n",
       "    <tr>\n",
       "      <th>3</th>\n",
       "      <td>5178</td>\n",
       "      <td>79 dollars</td>\n",
       "      <td>Manhattan, Hell's Kitchen</td>\n",
       "    </tr>\n",
       "    <tr>\n",
       "      <th>4</th>\n",
       "      <td>5238</td>\n",
       "      <td>150 dollars</td>\n",
       "      <td>Manhattan, Chinatown</td>\n",
       "    </tr>\n",
       "  </tbody>\n",
       "</table>\n",
       "</div>"
      ],
      "text/plain": [
       "   listing_id        price                nbhood_full\n",
       "0        2595  225 dollars         Manhattan, Midtown\n",
       "1        3831   89 dollars     Brooklyn, Clinton Hill\n",
       "2        5099  200 dollars     Manhattan, Murray Hill\n",
       "3        5178   79 dollars  Manhattan, Hell's Kitchen\n",
       "4        5238  150 dollars       Manhattan, Chinatown"
      ]
     },
     "execution_count": 4,
     "metadata": {},
     "output_type": "execute_result"
    }
   ],
   "source": [
    "#Visualização das tabelas lidas utilizando a função head(), que mostra as primeiras linhas (5 por padrão) e todas as colunas da tabela.\n",
    "airbnb_price.head()"
   ]
  },
  {
   "cell_type": "code",
   "execution_count": 5,
   "metadata": {},
   "outputs": [
    {
     "data": {
      "text/html": [
       "<div>\n",
       "<style scoped>\n",
       "    .dataframe tbody tr th:only-of-type {\n",
       "        vertical-align: middle;\n",
       "    }\n",
       "\n",
       "    .dataframe tbody tr th {\n",
       "        vertical-align: top;\n",
       "    }\n",
       "\n",
       "    .dataframe thead th {\n",
       "        text-align: right;\n",
       "    }\n",
       "</style>\n",
       "<table border=\"1\" class=\"dataframe\">\n",
       "  <thead>\n",
       "    <tr style=\"text-align: right;\">\n",
       "      <th></th>\n",
       "      <th>listing_id</th>\n",
       "      <th>host_name</th>\n",
       "      <th>last_review</th>\n",
       "    </tr>\n",
       "  </thead>\n",
       "  <tbody>\n",
       "    <tr>\n",
       "      <th>0</th>\n",
       "      <td>2595</td>\n",
       "      <td>Jennifer</td>\n",
       "      <td>May 21 2019</td>\n",
       "    </tr>\n",
       "    <tr>\n",
       "      <th>1</th>\n",
       "      <td>3831</td>\n",
       "      <td>LisaRoxanne</td>\n",
       "      <td>July 05 2019</td>\n",
       "    </tr>\n",
       "    <tr>\n",
       "      <th>2</th>\n",
       "      <td>5099</td>\n",
       "      <td>Chris</td>\n",
       "      <td>June 22 2019</td>\n",
       "    </tr>\n",
       "    <tr>\n",
       "      <th>3</th>\n",
       "      <td>5178</td>\n",
       "      <td>Shunichi</td>\n",
       "      <td>June 24 2019</td>\n",
       "    </tr>\n",
       "    <tr>\n",
       "      <th>4</th>\n",
       "      <td>5238</td>\n",
       "      <td>Ben</td>\n",
       "      <td>June 09 2019</td>\n",
       "    </tr>\n",
       "  </tbody>\n",
       "</table>\n",
       "</div>"
      ],
      "text/plain": [
       "   listing_id    host_name   last_review\n",
       "0        2595     Jennifer   May 21 2019\n",
       "1        3831  LisaRoxanne  July 05 2019\n",
       "2        5099        Chris  June 22 2019\n",
       "3        5178     Shunichi  June 24 2019\n",
       "4        5238          Ben  June 09 2019"
      ]
     },
     "execution_count": 5,
     "metadata": {},
     "output_type": "execute_result"
    }
   ],
   "source": [
    "airbnb_last_review.head()"
   ]
  },
  {
   "cell_type": "code",
   "execution_count": 6,
   "metadata": {},
   "outputs": [
    {
     "data": {
      "text/html": [
       "<div>\n",
       "<style scoped>\n",
       "    .dataframe tbody tr th:only-of-type {\n",
       "        vertical-align: middle;\n",
       "    }\n",
       "\n",
       "    .dataframe tbody tr th {\n",
       "        vertical-align: top;\n",
       "    }\n",
       "\n",
       "    .dataframe thead th {\n",
       "        text-align: right;\n",
       "    }\n",
       "</style>\n",
       "<table border=\"1\" class=\"dataframe\">\n",
       "  <thead>\n",
       "    <tr style=\"text-align: right;\">\n",
       "      <th></th>\n",
       "      <th>listing_id</th>\n",
       "      <th>description</th>\n",
       "      <th>room_type</th>\n",
       "    </tr>\n",
       "  </thead>\n",
       "  <tbody>\n",
       "    <tr>\n",
       "      <th>0</th>\n",
       "      <td>2595</td>\n",
       "      <td>Skylit Midtown Castle</td>\n",
       "      <td>Entire home/apt</td>\n",
       "    </tr>\n",
       "    <tr>\n",
       "      <th>1</th>\n",
       "      <td>3831</td>\n",
       "      <td>Cozy Entire Floor of Brownstone</td>\n",
       "      <td>Entire home/apt</td>\n",
       "    </tr>\n",
       "    <tr>\n",
       "      <th>2</th>\n",
       "      <td>5099</td>\n",
       "      <td>Large Cozy 1 BR Apartment In Midtown East</td>\n",
       "      <td>Entire home/apt</td>\n",
       "    </tr>\n",
       "    <tr>\n",
       "      <th>3</th>\n",
       "      <td>5178</td>\n",
       "      <td>Large Furnished Room Near B'way</td>\n",
       "      <td>private room</td>\n",
       "    </tr>\n",
       "    <tr>\n",
       "      <th>4</th>\n",
       "      <td>5238</td>\n",
       "      <td>Cute &amp; Cozy Lower East Side 1 bdrm</td>\n",
       "      <td>Entire home/apt</td>\n",
       "    </tr>\n",
       "  </tbody>\n",
       "</table>\n",
       "</div>"
      ],
      "text/plain": [
       "   listing_id                                description        room_type\n",
       "0        2595                      Skylit Midtown Castle  Entire home/apt\n",
       "1        3831            Cozy Entire Floor of Brownstone  Entire home/apt\n",
       "2        5099  Large Cozy 1 BR Apartment In Midtown East  Entire home/apt\n",
       "3        5178            Large Furnished Room Near B'way     private room\n",
       "4        5238         Cute & Cozy Lower East Side 1 bdrm  Entire home/apt"
      ]
     },
     "execution_count": 6,
     "metadata": {},
     "output_type": "execute_result"
    }
   ],
   "source": [
    "airbnb_room_type.head()"
   ]
  },
  {
   "cell_type": "code",
   "execution_count": 7,
   "metadata": {},
   "outputs": [],
   "source": [
    "listings = pd.merge(airbnb_price, airbnb_room_type, on='listing_id')\n",
    "listings = pd.merge(listings, airbnb_last_review, on='listing_id')"
   ]
  },
  {
   "cell_type": "code",
   "execution_count": 18,
   "metadata": {},
   "outputs": [
    {
     "data": {
      "text/html": [
       "<div>\n",
       "<style scoped>\n",
       "    .dataframe tbody tr th:only-of-type {\n",
       "        vertical-align: middle;\n",
       "    }\n",
       "\n",
       "    .dataframe tbody tr th {\n",
       "        vertical-align: top;\n",
       "    }\n",
       "\n",
       "    .dataframe thead th {\n",
       "        text-align: right;\n",
       "    }\n",
       "</style>\n",
       "<table border=\"1\" class=\"dataframe\">\n",
       "  <thead>\n",
       "    <tr style=\"text-align: right;\">\n",
       "      <th></th>\n",
       "      <th>listing_id</th>\n",
       "      <th>price</th>\n",
       "      <th>nbhood_full</th>\n",
       "      <th>description</th>\n",
       "      <th>room_type</th>\n",
       "      <th>host_name</th>\n",
       "      <th>last_review</th>\n",
       "      <th>last_review_date</th>\n",
       "      <th>price_clean</th>\n",
       "    </tr>\n",
       "  </thead>\n",
       "  <tbody>\n",
       "    <tr>\n",
       "      <th>0</th>\n",
       "      <td>2595</td>\n",
       "      <td>225 dollars</td>\n",
       "      <td>Manhattan, Midtown</td>\n",
       "      <td>Skylit Midtown Castle</td>\n",
       "      <td>entire home/apt</td>\n",
       "      <td>Jennifer</td>\n",
       "      <td>May 21 2019</td>\n",
       "      <td>2019-05-21</td>\n",
       "      <td>225.0</td>\n",
       "    </tr>\n",
       "    <tr>\n",
       "      <th>1</th>\n",
       "      <td>3831</td>\n",
       "      <td>89 dollars</td>\n",
       "      <td>Brooklyn, Clinton Hill</td>\n",
       "      <td>Cozy Entire Floor of Brownstone</td>\n",
       "      <td>entire home/apt</td>\n",
       "      <td>LisaRoxanne</td>\n",
       "      <td>July 05 2019</td>\n",
       "      <td>2019-07-05</td>\n",
       "      <td>89.0</td>\n",
       "    </tr>\n",
       "    <tr>\n",
       "      <th>2</th>\n",
       "      <td>5099</td>\n",
       "      <td>200 dollars</td>\n",
       "      <td>Manhattan, Murray Hill</td>\n",
       "      <td>Large Cozy 1 BR Apartment In Midtown East</td>\n",
       "      <td>entire home/apt</td>\n",
       "      <td>Chris</td>\n",
       "      <td>June 22 2019</td>\n",
       "      <td>2019-06-22</td>\n",
       "      <td>200.0</td>\n",
       "    </tr>\n",
       "    <tr>\n",
       "      <th>3</th>\n",
       "      <td>5178</td>\n",
       "      <td>79 dollars</td>\n",
       "      <td>Manhattan, Hell's Kitchen</td>\n",
       "      <td>Large Furnished Room Near B'way</td>\n",
       "      <td>private room</td>\n",
       "      <td>Shunichi</td>\n",
       "      <td>June 24 2019</td>\n",
       "      <td>2019-06-24</td>\n",
       "      <td>79.0</td>\n",
       "    </tr>\n",
       "    <tr>\n",
       "      <th>4</th>\n",
       "      <td>5238</td>\n",
       "      <td>150 dollars</td>\n",
       "      <td>Manhattan, Chinatown</td>\n",
       "      <td>Cute &amp; Cozy Lower East Side 1 bdrm</td>\n",
       "      <td>entire home/apt</td>\n",
       "      <td>Ben</td>\n",
       "      <td>June 09 2019</td>\n",
       "      <td>2019-06-09</td>\n",
       "      <td>150.0</td>\n",
       "    </tr>\n",
       "  </tbody>\n",
       "</table>\n",
       "</div>"
      ],
      "text/plain": [
       "   listing_id        price                nbhood_full  \\\n",
       "0        2595  225 dollars         Manhattan, Midtown   \n",
       "1        3831   89 dollars     Brooklyn, Clinton Hill   \n",
       "2        5099  200 dollars     Manhattan, Murray Hill   \n",
       "3        5178   79 dollars  Manhattan, Hell's Kitchen   \n",
       "4        5238  150 dollars       Manhattan, Chinatown   \n",
       "\n",
       "                                 description        room_type    host_name  \\\n",
       "0                      Skylit Midtown Castle  entire home/apt     Jennifer   \n",
       "1            Cozy Entire Floor of Brownstone  entire home/apt  LisaRoxanne   \n",
       "2  Large Cozy 1 BR Apartment In Midtown East  entire home/apt        Chris   \n",
       "3            Large Furnished Room Near B'way     private room     Shunichi   \n",
       "4         Cute & Cozy Lower East Side 1 bdrm  entire home/apt          Ben   \n",
       "\n",
       "    last_review last_review_date  price_clean  \n",
       "0   May 21 2019       2019-05-21        225.0  \n",
       "1  July 05 2019       2019-07-05         89.0  \n",
       "2  June 22 2019       2019-06-22        200.0  \n",
       "3  June 24 2019       2019-06-24         79.0  \n",
       "4  June 09 2019       2019-06-09        150.0  "
      ]
     },
     "execution_count": 18,
     "metadata": {},
     "output_type": "execute_result"
    }
   ],
   "source": [
    "listings.head()"
   ]
  },
  {
   "cell_type": "code",
   "execution_count": null,
   "metadata": {},
   "outputs": [
    {
     "name": "stdout",
     "output_type": "stream",
     "text": [
      "A data da última avaliação é: 2019-07-09 00:00:00 e, a primeira é 2019-01-01 00:00:00\n"
     ]
    }
   ],
   "source": [
    "#Datas das avaliações mais recentes \n",
    "#uso da função max e min\n",
    "listings['last_review_date'] = pd.to_datetime(listings['last_review'], format='%B %d %Y') #convertendo o formato da data\n",
    "first_reviewed = listings['last_review_date'].min() #utilização da função min, que pega o valor minimo\n",
    "last_reviewed = listings['last_review_date'].max()  #utilização da função max, que pega o valor máximo\n",
    "print(f\"A data da última avaliação é: {last_reviewed} e, a primeira é: {first_reviewed}\") "
   ]
  },
  {
   "cell_type": "code",
   "execution_count": null,
   "metadata": {},
   "outputs": [
    {
     "name": "stdout",
     "output_type": "stream",
     "text": [
      "Número de salas privadas: 11356\n"
     ]
    }
   ],
   "source": [
    "#Quantas salas são consideradas privadas\n",
    "listings['room_type'] = listings['room_type'].str.lower() #convertendo todas as strings desta tabela para minúsculo\n",
    "private_room_count = listings[listings['room_type'] == 'private room'].shape[0] #contando a quantidade de vezes que a string \"private room\" aparece\n",
    "print(f\"Número de salas privadas: {private_room_count}\")"
   ]
  },
  {
   "cell_type": "code",
   "execution_count": null,
   "metadata": {},
   "outputs": [
    {
     "name": "stdout",
     "output_type": "stream",
     "text": [
      "O preço médio é de: 141.7779364512674\n"
     ]
    }
   ],
   "source": [
    "#Preço médio da lista de valores.\n",
    "listings['price_clean'] = listings['price'].str.replace(' dollars', '').astype(float) #selecionando a coluna price cleans e trocando a string dollars para vazio.\n",
    "avg_price = listings['price_clean'].mean() #utilizando a função mean para capturar a média dos valores contidos na coluna price_clean\n",
    "print(f\"O preço médio é de: {avg_price}\")"
   ]
  },
  {
   "cell_type": "code",
   "execution_count": 19,
   "metadata": {},
   "outputs": [],
   "source": [
    "#Criando um dataframe utilizando colunas criadas anteriormente.\n",
    "review_dates = pd.DataFrame({\n",
    "    'first_reviewed': [first_reviewed],\n",
    "    'last_reviewed': [last_reviewed],\n",
    "    'nb_private_rooms': [private_room_count],\n",
    "    'avg_price': [round(avg_price, 2)]\n",
    "})"
   ]
  },
  {
   "cell_type": "code",
   "execution_count": 21,
   "metadata": {},
   "outputs": [
    {
     "data": {
      "text/html": [
       "<div>\n",
       "<style scoped>\n",
       "    .dataframe tbody tr th:only-of-type {\n",
       "        vertical-align: middle;\n",
       "    }\n",
       "\n",
       "    .dataframe tbody tr th {\n",
       "        vertical-align: top;\n",
       "    }\n",
       "\n",
       "    .dataframe thead th {\n",
       "        text-align: right;\n",
       "    }\n",
       "</style>\n",
       "<table border=\"1\" class=\"dataframe\">\n",
       "  <thead>\n",
       "    <tr style=\"text-align: right;\">\n",
       "      <th></th>\n",
       "      <th>first_reviewed</th>\n",
       "      <th>last_reviewed</th>\n",
       "      <th>nb_private_rooms</th>\n",
       "      <th>avg_price</th>\n",
       "    </tr>\n",
       "  </thead>\n",
       "  <tbody>\n",
       "    <tr>\n",
       "      <th>0</th>\n",
       "      <td>2019-01-01</td>\n",
       "      <td>2019-07-09</td>\n",
       "      <td>11356</td>\n",
       "      <td>141.78</td>\n",
       "    </tr>\n",
       "  </tbody>\n",
       "</table>\n",
       "</div>"
      ],
      "text/plain": [
       "  first_reviewed last_reviewed  nb_private_rooms  avg_price\n",
       "0     2019-01-01    2019-07-09             11356     141.78"
      ]
     },
     "execution_count": 21,
     "metadata": {},
     "output_type": "execute_result"
    }
   ],
   "source": [
    "review_dates"
   ]
  }
 ],
 "metadata": {
  "kernelspec": {
   "display_name": "imagens",
   "language": "python",
   "name": "python3"
  },
  "language_info": {
   "codemirror_mode": {
    "name": "ipython",
    "version": 3
   },
   "file_extension": ".py",
   "mimetype": "text/x-python",
   "name": "python",
   "nbconvert_exporter": "python",
   "pygments_lexer": "ipython3",
   "version": "3.9.19"
  }
 },
 "nbformat": 4,
 "nbformat_minor": 2
}
